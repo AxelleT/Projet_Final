{
 "cells": [
  {
   "cell_type": "markdown",
   "metadata": {},
   "source": [
    "# Librairies"
   ]
  },
  {
   "cell_type": "code",
   "execution_count": 1,
   "metadata": {},
   "outputs": [],
   "source": [
    "from pyspark import SparkContext\n",
    "from pyspark.sql import SparkSession\n",
    "from pyspark.sql import functions as F"
   ]
  },
  {
   "cell_type": "markdown",
   "metadata": {},
   "source": [
    "# Instanciation"
   ]
  },
  {
   "cell_type": "code",
   "execution_count": 2,
   "metadata": {},
   "outputs": [],
   "source": [
    "Spark = SparkSession.builder.master(\"local\").appName(\"DF\").getOrCreate()"
   ]
  },
  {
   "cell_type": "markdown",
   "metadata": {},
   "source": [
    "# Création des tables"
   ]
  },
  {
   "cell_type": "markdown",
   "metadata": {},
   "source": [
    "### Author"
   ]
  },
  {
   "cell_type": "code",
   "execution_count": 3,
   "metadata": {},
   "outputs": [
    {
     "name": "stdout",
     "output_type": "stream",
     "text": [
      "+-----+-----------------+\n",
      "|  aid|             name|\n",
      "+-----+-----------------+\n",
      "|07890| Jean Paul Sartre|\n",
      "|05678|Pierre de Ronsard|\n",
      "+-----+-----------------+\n",
      "\n"
     ]
    }
   ],
   "source": [
    "l1 = [('07890','Jean Paul Sartre'),('05678','Pierre de Ronsard')]\n",
    "rdd1 = Spark.sparkContext.parallelize(l1)\n",
    "Author = rdd1.toDF(['aid','name'])\n",
    "Author.createOrReplaceTempView('AuthorSQL')\n",
    "Author.show()"
   ]
  },
  {
   "cell_type": "markdown",
   "metadata": {},
   "source": [
    "### book"
   ]
  },
  {
   "cell_type": "code",
   "execution_count": 4,
   "metadata": {},
   "outputs": [
    {
     "name": "stdout",
     "output_type": "stream",
     "text": [
      "+----+--------------------+-----------+\n",
      "| bid|               title|   category|\n",
      "+----+--------------------+-----------+\n",
      "|0001|L'existentialisme...|Philosophie|\n",
      "|0002|Huis clos. Suivi ...|Philosophie|\n",
      "|0003|Mignonne allons v...|      Poème|\n",
      "|0004|          Les Amours|      Poème|\n",
      "+----+--------------------+-----------+\n",
      "\n"
     ]
    }
   ],
   "source": [
    "l2 = [('0001',\"L'existentialisme est un humanisme\",'Philosophie'),\n",
    "      ('0002',\"Huis clos. Suivi de Les Mouches\",'Philosophie'),\n",
    "      ('0003',\"Mignonne allons voir si la rose\",\"Poème\"),\n",
    "      ('0004',\"Les Amours\",\"Poème\")]\n",
    "rdd2 = Spark.sparkContext.parallelize(l2)\n",
    "book = rdd2.toDF(['bid','title','category'])\n",
    "book.createOrReplaceTempView('bookSQL')\n",
    "book.show()"
   ]
  },
  {
   "cell_type": "markdown",
   "metadata": {},
   "source": [
    "### Student"
   ]
  },
  {
   "cell_type": "code",
   "execution_count": 5,
   "metadata": {},
   "outputs": [
    {
     "name": "stdout",
     "output_type": "stream",
     "text": [
      "+---+-----+---------+\n",
      "|sid|sname|     dept|\n",
      "+---+-----+---------+\n",
      "|S15| toto|     Math|\n",
      "|S16| popo|      Eco|\n",
      "|S17| fofo|Mécanique|\n",
      "+---+-----+---------+\n",
      "\n"
     ]
    }
   ],
   "source": [
    "l3 = [('S15','toto','Math'),('S16','popo','Eco'),('S17','fofo',\"Mécanique\")]\n",
    "rdd3 = Spark.sparkContext.parallelize(l3)\n",
    "Student = rdd3.toDF(['sid','sname','dept'])\n",
    "Student.createOrReplaceTempView('StudentSQL')\n",
    "Student.show()"
   ]
  },
  {
   "cell_type": "markdown",
   "metadata": {},
   "source": [
    "### write"
   ]
  },
  {
   "cell_type": "code",
   "execution_count": 6,
   "metadata": {},
   "outputs": [
    {
     "name": "stdout",
     "output_type": "stream",
     "text": [
      "+-----+----+\n",
      "|  aid| bid|\n",
      "+-----+----+\n",
      "|07890|0001|\n",
      "|07890|0002|\n",
      "|05678|0003|\n",
      "|05678|0003|\n",
      "+-----+----+\n",
      "\n"
     ]
    }
   ],
   "source": [
    "l4 = [('07890','0001'),('07890','0002'),('05678','0003'),('05678','0003')]\n",
    "rdd4 = Spark.sparkContext.parallelize(l4)\n",
    "write = rdd4.toDF(['aid','bid'])\n",
    "write.createOrReplaceTempView('writeSQL')\n",
    "write.show()"
   ]
  },
  {
   "cell_type": "markdown",
   "metadata": {},
   "source": [
    "### borrow"
   ]
  },
  {
   "cell_type": "code",
   "execution_count": 7,
   "metadata": {},
   "outputs": [
    {
     "name": "stdout",
     "output_type": "stream",
     "text": [
      "+---+----+-------------+-----------+\n",
      "|sid| bid|checkout-time|return-time|\n",
      "+---+----+-------------+-----------+\n",
      "|S15|0003|   02-01-2020| 01-02-2020|\n",
      "|S15|0002|   13-06-2020|       null|\n",
      "|S15|0001|   13-06-2020| 13-10-2020|\n",
      "|S16|0002|   24-01-2020| 24-01-2020|\n",
      "|S17|0001|   12-04-2020| 01-07-2020|\n",
      "+---+----+-------------+-----------+\n",
      "\n"
     ]
    }
   ],
   "source": [
    "l5 = [('S15','0003','02-01-2020','01-02-2020'),\n",
    "      ('S15','0002','13-06-2020', None),\n",
    "      ('S15','0001','13-06-2020','13-10-2020'),\n",
    "      ('S16','0002','24-01-2020','24-01-2020'),\n",
    "      ('S17','0001','12-04-2020','01-07-2020')]\n",
    "rdd5 = Spark.sparkContext.parallelize(l5)\n",
    "borrow = rdd5.toDF(['sid','bid','checkout-time','return-time'])\n",
    "borrow.createOrReplaceTempView('borrowSQL')\n",
    "borrow.show()"
   ]
  },
  {
   "cell_type": "markdown",
   "metadata": {},
   "source": [
    "# 1-Trouver les titres de tous les livres que l'étudiant sid='S15' a emprunté. "
   ]
  },
  {
   "cell_type": "markdown",
   "metadata": {},
   "source": [
    "### SQL"
   ]
  },
  {
   "cell_type": "code",
   "execution_count": 8,
   "metadata": {},
   "outputs": [
    {
     "name": "stdout",
     "output_type": "stream",
     "text": [
      "+---+--------------------+\n",
      "|sid|               title|\n",
      "+---+--------------------+\n",
      "|S15|Huis clos. Suivi ...|\n",
      "|S15|Mignonne allons v...|\n",
      "|S15|L'existentialisme...|\n",
      "+---+--------------------+\n",
      "\n"
     ]
    }
   ],
   "source": [
    "Spark.sql(''' select sid, title \n",
    "                from borrowSQL as bw \n",
    "                    join bookSQL as bk \n",
    "                        on bk.bid = bw.bid\n",
    "                where bw.sid == 'S15' ''').show()"
   ]
  },
  {
   "cell_type": "markdown",
   "metadata": {},
   "source": [
    "### DSL"
   ]
  },
  {
   "cell_type": "code",
   "execution_count": 9,
   "metadata": {},
   "outputs": [
    {
     "name": "stdout",
     "output_type": "stream",
     "text": [
      "+---+--------------------+\n",
      "|sid|               title|\n",
      "+---+--------------------+\n",
      "|S15|Huis clos. Suivi ...|\n",
      "|S15|Mignonne allons v...|\n",
      "|S15|L'existentialisme...|\n",
      "+---+--------------------+\n",
      "\n"
     ]
    }
   ],
   "source": [
    "book.join(borrow,'bid') \\\n",
    "    .select('sid','title') \\\n",
    "    .filter(F.col('sid')=='S15') \\\n",
    "    .show()"
   ]
  },
  {
   "cell_type": "markdown",
   "metadata": {},
   "source": [
    "# 2-Trouver les titres de tous les livres qui n'ont jamais été empruntés par un étudiant."
   ]
  },
  {
   "cell_type": "markdown",
   "metadata": {},
   "source": [
    "### SQL"
   ]
  },
  {
   "cell_type": "code",
   "execution_count": 10,
   "metadata": {},
   "outputs": [
    {
     "name": "stdout",
     "output_type": "stream",
     "text": [
      "+----------+\n",
      "|     title|\n",
      "+----------+\n",
      "|Les Amours|\n",
      "+----------+\n",
      "\n"
     ]
    }
   ],
   "source": [
    "Spark.sql(''' select title\n",
    "                from bookSQL as bk \n",
    "                    left join borrowSQL as bw \n",
    "                        on bk.bid = bw.bid\n",
    "                where bw.`checkout-time` is null ''').show()"
   ]
  },
  {
   "cell_type": "markdown",
   "metadata": {},
   "source": [
    "### DSL"
   ]
  },
  {
   "cell_type": "code",
   "execution_count": 11,
   "metadata": {},
   "outputs": [
    {
     "name": "stdout",
     "output_type": "stream",
     "text": [
      "+----------+\n",
      "|     title|\n",
      "+----------+\n",
      "|Les Amours|\n",
      "+----------+\n",
      "\n"
     ]
    }
   ],
   "source": [
    "book.join(borrow, \"bid\", how=\"left\")\\\n",
    "     .select(\"title\")\\\n",
    "     .filter(F.col(\"checkout-time\").isNull())\\\n",
    "     .show()"
   ]
  },
  {
   "cell_type": "markdown",
   "metadata": {},
   "source": [
    "# 3-Trouver tous les étudiants qui ont emprunté le livre bid=’0002’."
   ]
  },
  {
   "cell_type": "markdown",
   "metadata": {},
   "source": [
    "### SQL"
   ]
  },
  {
   "cell_type": "code",
   "execution_count": 12,
   "metadata": {},
   "outputs": [
    {
     "name": "stdout",
     "output_type": "stream",
     "text": [
      "+-----+----+\n",
      "|sname| bid|\n",
      "+-----+----+\n",
      "| popo|0002|\n",
      "| toto|0002|\n",
      "+-----+----+\n",
      "\n"
     ]
    }
   ],
   "source": [
    "Spark.sql(''' select sname, bid\n",
    "                from StudentSQL as S\n",
    "                    join borrowSQL as bw \n",
    "                        on bw.sid = S.sid\n",
    "                where bid == '0002' ''').show()"
   ]
  },
  {
   "cell_type": "markdown",
   "metadata": {},
   "source": [
    "### DSL"
   ]
  },
  {
   "cell_type": "code",
   "execution_count": 13,
   "metadata": {},
   "outputs": [
    {
     "name": "stdout",
     "output_type": "stream",
     "text": [
      "+-----+----+\n",
      "|sname| bid|\n",
      "+-----+----+\n",
      "| popo|0002|\n",
      "| toto|0002|\n",
      "+-----+----+\n",
      "\n"
     ]
    }
   ],
   "source": [
    "Student.join(borrow, \"sid\")\\\n",
    "     .select(\"sname\",\"bid\")\\\n",
    "     .filter(F.col(\"bid\") == \"0002\")\\\n",
    "     .show()"
   ]
  },
  {
   "cell_type": "markdown",
   "metadata": {},
   "source": [
    "# 4-Trouver les titres de tous les livres empruntés par des étudiants en mécanique (département mécanique)."
   ]
  },
  {
   "cell_type": "markdown",
   "metadata": {},
   "source": [
    "### SQL"
   ]
  },
  {
   "cell_type": "code",
   "execution_count": 14,
   "metadata": {},
   "outputs": [
    {
     "name": "stdout",
     "output_type": "stream",
     "text": [
      "+--------------------+\n",
      "|               title|\n",
      "+--------------------+\n",
      "|L'existentialisme...|\n",
      "+--------------------+\n",
      "\n"
     ]
    }
   ],
   "source": [
    "Spark.sql(''' select title\n",
    "                from (\n",
    "                    select bw.bid\n",
    "                        from StudentSQL as S\n",
    "                            join borrowSQL as bw \n",
    "                                on bw.sid = S.sid\n",
    "                        where dept == \"Mécanique\"\n",
    "                    ) req\n",
    "                    join bookSQL as bk\n",
    "                        on req.bid = bk.bid ''').show()"
   ]
  },
  {
   "cell_type": "markdown",
   "metadata": {},
   "source": [
    "### DSL"
   ]
  },
  {
   "cell_type": "code",
   "execution_count": 15,
   "metadata": {},
   "outputs": [
    {
     "name": "stdout",
     "output_type": "stream",
     "text": [
      "+--------------------+\n",
      "|               title|\n",
      "+--------------------+\n",
      "|L'existentialisme...|\n",
      "+--------------------+\n",
      "\n"
     ]
    }
   ],
   "source": [
    "req = Student.join(borrow, \"sid\")\\\n",
    "             .select(\"bid\")\\\n",
    "             .filter(F.col(\"dept\") == \"Mécanique\")\n",
    "\n",
    "req.join(book, \"bid\") \\\n",
    "    .select(\"title\") \\\n",
    "    .show()"
   ]
  },
  {
   "cell_type": "markdown",
   "metadata": {},
   "source": [
    "# 5-Trouver les étudiants qui n’ont jamais emprunté de livre. "
   ]
  },
  {
   "cell_type": "markdown",
   "metadata": {},
   "source": [
    "### SQL"
   ]
  },
  {
   "cell_type": "code",
   "execution_count": 16,
   "metadata": {},
   "outputs": [
    {
     "name": "stdout",
     "output_type": "stream",
     "text": [
      "+-----+\n",
      "|sname|\n",
      "+-----+\n",
      "+-----+\n",
      "\n"
     ]
    }
   ],
   "source": [
    "Spark.sql(''' select sname\n",
    "                from StudentSQL as S \n",
    "                    left join borrowSQL as bw \n",
    "                        on S.sid = bw.sid\n",
    "                where S.sid is null ''').show()"
   ]
  },
  {
   "cell_type": "markdown",
   "metadata": {},
   "source": [
    "### DSL"
   ]
  },
  {
   "cell_type": "code",
   "execution_count": 17,
   "metadata": {},
   "outputs": [
    {
     "name": "stdout",
     "output_type": "stream",
     "text": [
      "+-----+\n",
      "|sname|\n",
      "+-----+\n",
      "+-----+\n",
      "\n"
     ]
    }
   ],
   "source": [
    "Student.join(borrow, \"sid\", how=\"left\")\\\n",
    "     .select(\"sname\")\\\n",
    "     .filter(F.col(\"sid\").isNull())\\\n",
    "     .show()"
   ]
  },
  {
   "cell_type": "markdown",
   "metadata": {},
   "source": [
    "# 6-Déterminer l’auteur qui a écrit le plus de livres."
   ]
  },
  {
   "cell_type": "markdown",
   "metadata": {},
   "source": [
    "### SQL"
   ]
  },
  {
   "cell_type": "code",
   "execution_count": 18,
   "metadata": {},
   "outputs": [
    {
     "name": "stdout",
     "output_type": "stream",
     "text": [
      "+----------------+---+\n",
      "|            name| nb|\n",
      "+----------------+---+\n",
      "|Jean Paul Sartre|  2|\n",
      "+----------------+---+\n",
      "\n"
     ]
    }
   ],
   "source": [
    "Spark.sql(''' select first(name) as name, first(nb) as nb\n",
    "                from (\n",
    "                    select name, count(DISTINCT bid) as nb\n",
    "                        from AuthorSQL as A \n",
    "                            join writeSQL as w \n",
    "                                on A.aid = w.aid\n",
    "                        group by A.name \n",
    "                    ) req\n",
    "                order by nb desc ''').show()\n"
   ]
  },
  {
   "cell_type": "markdown",
   "metadata": {},
   "source": [
    "### DSL"
   ]
  },
  {
   "cell_type": "code",
   "execution_count": 19,
   "metadata": {},
   "outputs": [
    {
     "name": "stdout",
     "output_type": "stream",
     "text": [
      "+----------------+---+\n",
      "|            name| nb|\n",
      "+----------------+---+\n",
      "|Jean Paul Sartre|  2|\n",
      "+----------------+---+\n",
      "\n"
     ]
    }
   ],
   "source": [
    "Author.join(write, \"aid\") \\\n",
    "    .distinct() \\\n",
    "    .groupBy(\"name\") \\\n",
    "    .agg(F.count(\"bid\").alias(\"nb\")) \\\n",
    "    .sort(F.col(\"nb\").desc()) \\\n",
    "    .select(F.first(\"name\").alias(\"name\"),F.first(\"nb\").alias(\"nb\")) \\\n",
    "    .show()"
   ]
  },
  {
   "cell_type": "markdown",
   "metadata": {},
   "source": [
    "# 7-Déterminer les personnes qui n’ont pas encore rendu les livres."
   ]
  },
  {
   "cell_type": "markdown",
   "metadata": {},
   "source": [
    "### SQL"
   ]
  },
  {
   "cell_type": "code",
   "execution_count": 20,
   "metadata": {},
   "outputs": [
    {
     "name": "stdout",
     "output_type": "stream",
     "text": [
      "+-----+\n",
      "|sname|\n",
      "+-----+\n",
      "| toto|\n",
      "+-----+\n",
      "\n"
     ]
    }
   ],
   "source": [
    "Spark.sql(''' select sname\n",
    "                from StudentSQL as S \n",
    "                    left join borrowSQL as bw \n",
    "                        on S.sid = bw.sid\n",
    "                where bw.`return-time` is null ''').show()"
   ]
  },
  {
   "cell_type": "markdown",
   "metadata": {},
   "source": [
    "### DSL"
   ]
  },
  {
   "cell_type": "code",
   "execution_count": 21,
   "metadata": {},
   "outputs": [
    {
     "name": "stdout",
     "output_type": "stream",
     "text": [
      "+-----+\n",
      "|sname|\n",
      "+-----+\n",
      "| toto|\n",
      "+-----+\n",
      "\n"
     ]
    }
   ],
   "source": [
    "Student.join(borrow, \"sid\", how=\"left\")\\\n",
    "     .select(\"sname\")\\\n",
    "     .filter(F.col(\"return-time\").isNull())\\\n",
    "     .show()"
   ]
  },
  {
   "cell_type": "markdown",
   "metadata": {},
   "source": [
    "# 8-Créer une nouvelle colonne dans la table borrow qui prend la valeur 1, si la durée d'emprunt est supérieur à 3 mois,  sinon 0.    \n",
    "(utiliser la fonction spark to_date) par la suite faire un export des données en CSV. dans un répertoire nommé contention (Attention pas de path en dur ! )"
   ]
  },
  {
   "cell_type": "markdown",
   "metadata": {},
   "source": [
    "### SQL     \n",
    "On considère que les valeurs nulles dans le return-time considèrent que le livre n'a pas été rendu à l'heure où la base de données a été utilisée. On prend donc la date actuelle."
   ]
  },
  {
   "cell_type": "code",
   "execution_count": 22,
   "metadata": {},
   "outputs": [],
   "source": [
    "Spark.sql(''' select req.sid, req.bid, req.`checkout-time`, req.`return-time`,\n",
    "                    (case\n",
    "                       when datediff(req.`return-time`, req.`checkout-time`) >= 90 then '1'\n",
    "                       else '0'\n",
    "                    end) as Plus_3_mois\n",
    "                from (select sid, bid, to_date(`checkout-time`, 'd-M-y') as `checkout-time`,\n",
    "                        (case \n",
    "                            when `return-time` is null then date(now())\n",
    "                            else to_date(`return-time`, 'd-M-y')\n",
    "                        end) as `return-time`\n",
    "                        from borrowSQL ) as req ''').write.csv(path = \"./contention\", mode = \"overwrite\", header = 'true')"
   ]
  },
  {
   "cell_type": "markdown",
   "metadata": {},
   "source": [
    "### DSL"
   ]
  },
  {
   "cell_type": "code",
   "execution_count": 23,
   "metadata": {},
   "outputs": [],
   "source": [
    "borrow.withColumn(\"checkout-time\", F.to_date(F.col(\"checkout-time\"), \"dd-MM-yyyy\")) \\\n",
    "    .withColumn(\"return-time\", F.to_date(F.col(\"return-time\"), \"dd-MM-yyyy\")) \\\n",
    "    .withColumn(\"return-time\", (F.when(F.col(\"return-time\").isNull(), F.current_date()).otherwise(F.col(\"return-time\")))) \\\n",
    "    .withColumn(\"Duree\", F.datediff(F.col(\"return-time\"), F.col(\"checkout-time\"))) \\\n",
    "    .withColumn(\"plus_3_mois\", (F.when(F.col(\"Duree\")>=90, 1).otherwise(0))) \\\n",
    "    .select(\"sid\", \"bid\", \"checkout-time\", \"return-time\", \"plus_3_mois\") \\\n",
    "    .write.csv(path = \"./contention\", mode = \"overwrite\", header = 'true')"
   ]
  },
  {
   "cell_type": "markdown",
   "metadata": {},
   "source": [
    "# 9-Déterminer les livres qui n’ont jamais été empruntés. "
   ]
  },
  {
   "cell_type": "markdown",
   "metadata": {},
   "source": [
    "### SQL"
   ]
  },
  {
   "cell_type": "code",
   "execution_count": 24,
   "metadata": {},
   "outputs": [
    {
     "name": "stdout",
     "output_type": "stream",
     "text": [
      "+----------+\n",
      "|     title|\n",
      "+----------+\n",
      "|Les Amours|\n",
      "+----------+\n",
      "\n"
     ]
    }
   ],
   "source": [
    "Spark.sql(''' select title\n",
    "                from bookSQL as bk \n",
    "                    left join borrowSQL as bw \n",
    "                        on bk.bid = bw.bid\n",
    "                where bw.`checkout-time` is null ''').show()"
   ]
  },
  {
   "cell_type": "markdown",
   "metadata": {},
   "source": [
    "### DSL"
   ]
  },
  {
   "cell_type": "code",
   "execution_count": 25,
   "metadata": {},
   "outputs": [
    {
     "name": "stdout",
     "output_type": "stream",
     "text": [
      "+----------+\n",
      "|     title|\n",
      "+----------+\n",
      "|Les Amours|\n",
      "+----------+\n",
      "\n"
     ]
    }
   ],
   "source": [
    "book.join(borrow, \"bid\", how=\"left\")\\\n",
    "     .select(\"title\")\\\n",
    "     .filter(F.col(\"checkout-time\").isNull())\\\n",
    "     .show()"
   ]
  },
  {
   "cell_type": "markdown",
   "metadata": {},
   "source": [
    "# Fermeture instanciation"
   ]
  },
  {
   "cell_type": "code",
   "execution_count": 26,
   "metadata": {},
   "outputs": [],
   "source": [
    "Spark.stop()"
   ]
  },
  {
   "cell_type": "code",
   "execution_count": null,
   "metadata": {},
   "outputs": [],
   "source": []
  }
 ],
 "metadata": {
  "kernelspec": {
   "display_name": "Python 3",
   "language": "python",
   "name": "python3"
  },
  "language_info": {
   "codemirror_mode": {
    "name": "ipython",
    "version": 3
   },
   "file_extension": ".py",
   "mimetype": "text/x-python",
   "name": "python",
   "nbconvert_exporter": "python",
   "pygments_lexer": "ipython3",
   "version": "3.8.3"
  }
 },
 "nbformat": 4,
 "nbformat_minor": 4
}
